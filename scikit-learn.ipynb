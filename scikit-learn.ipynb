{
 "cells": [
  {
   "cell_type": "code",
   "execution_count": null,
   "id": "a686c04f-a641-440d-ad8e-ba3f49d76385",
   "metadata": {},
   "outputs": [],
   "source": [
    "import pandas as pd\n",
    "import numpy as np\n",
    "import sklearn\n",
    "import matplotlib as mpl\n",
    "import matplotlib.pyplot as plt\n",
    "import seaborn as sns\n",
    "\n",
    "import torch\n",
    "import torch.nn as nn\n",
    "import torch.optim as opt\n",
    "from torch.utils.data import Dataset, DataLoader\n",
    "\n",
    "from sklearn.model_selection import train_test_split\n",
    "import random\n",
    "import os\n",
    "\n",
    "from sklearn.preprocessing import StandardScaler\n",
    "from sklearn.preprocessing import MinMaxScaler\n",
    "from sklearn.preprocessing import RobustScaler\n",
    "from sklearn.preprocessing import OneHotEncoder\n",
    "from sklearn.metrics import mean_absolute_error\n",
    "\n",
    "mpl.rc('font', family='Malgun Gothic')"
   ]
  },
  {
   "cell_type": "code",
   "execution_count": null,
   "id": "f01b8926-2ac8-4d7e-abb7-29e496669548",
   "metadata": {},
   "outputs": [],
   "source": [
    "df = pd.read_csv(\"train.csv\")\n",
    "test = pd.read_csv(\"test_.csv\")"
   ]
  },
  {
   "cell_type": "code",
   "execution_count": null,
   "id": "2646a9cd-77e3-4888-89c9-0e1c8227cd88",
   "metadata": {},
   "outputs": [],
   "source": [
    "df= df[['월', '일', '오전', '오후', '저녁', '섭씨 온도(°⁣C)', '이슬점 온도(°C)', '상대 습도 (%)', '대기압(mbar)', \n",
    "        '포화 증기압(mbar)', '실제 증기압(mbar)', '증기압 부족량(mbar)', '수증기 함량 (g/kg)', '공기 밀도 (g/m**3)', '풍향 (deg)', '풍속 (m/s)']]"
   ]
  },
  {
   "cell_type": "code",
   "execution_count": null,
   "id": "7d557de0-fe74-4001-9e64-eaddb5887d0f",
   "metadata": {},
   "outputs": [],
   "source": [
    "test = test[['월', '일', '오전', '오후', '저녁', '섭씨 온도(°⁣C)', '이슬점 온도(°C)', '상대 습도 (%)', '대기압(mbar)', \n",
    "        '포화 증기압(mbar)', '실제 증기압(mbar)', '증기압 부족량(mbar)', '수증기 함량 (g/kg)', '공기 밀도 (g/m**3)', '풍향 (deg)']]"
   ]
  },
  {
   "cell_type": "code",
   "execution_count": null,
   "id": "d889df5d-b6a2-4595-8dc7-a5e949b0aeb1",
   "metadata": {},
   "outputs": [],
   "source": [
    "from sklearn.ensemble import RandomForestRegressor\n",
    "rfr = RandomForestRegressor()\n",
    "\n",
    "import xgboost\n",
    "from xgboost import XGBRegressor\n",
    "xgbr = XGBRegressor(max_depth=10, learning_rate = 0.1, min_child_weight=4, eval='error')\n",
    "\n",
    "from sklearn.neural_network import MLPRegressor\n",
    "mlp = MLPRegressor()"
   ]
  },
  {
   "cell_type": "code",
   "execution_count": null,
   "id": "ce9d1aa1-99c3-4aa8-bed4-9509b3ca083c",
   "metadata": {},
   "outputs": [],
   "source": [
    "from sklearn.model_selection import train_test_split\n",
    "\n",
    "xtr, xte, ytr, yte = train_test_split(data, target, train_size=0.75, random_state=976)"
   ]
  },
  {
   "cell_type": "code",
   "execution_count": null,
   "id": "89bcabc4-286a-47dc-b387-c019b453a396",
   "metadata": {},
   "outputs": [],
   "source": [
    "xgbr.fit(xtr, ytr)\n",
    "rfr.fit(xtr, ytr)\n",
    "mlp.fit(xtr, ytr)"
   ]
  },
  {
   "cell_type": "code",
   "execution_count": null,
   "id": "242ad5b4-7e33-422c-824c-5220d66c735f",
   "metadata": {},
   "outputs": [],
   "source": [
    "rfrtr = rfr.predict(xtr)\n",
    "rfrte = rfr.predict(xte)\n",
    "\n",
    "xgbtr = xgbr.predict(xtr)\n",
    "xgbte = xgbr.predict(xte)\n",
    "\n",
    "mlptr = mlp.predict(xtr)\n",
    "mlpte = mlp.predict(xte)"
   ]
  },
  {
   "cell_type": "code",
   "execution_count": null,
   "id": "1a0e615e-866d-477f-ac6c-78eb633940a3",
   "metadata": {},
   "outputs": [],
   "source": [
    "mae = mean_absolute_error"
   ]
  },
  {
   "cell_type": "code",
   "execution_count": null,
   "id": "b9bfcd74-9e0c-405a-a1d9-073562b0d47f",
   "metadata": {},
   "outputs": [],
   "source": [
    "print(mae(rfrtr, ytr))\n",
    "print(mae(rfrte, yte))"
   ]
  },
  {
   "cell_type": "code",
   "execution_count": null,
   "id": "0ed41081-12dd-4e5b-82b3-709b86a0b238",
   "metadata": {},
   "outputs": [],
   "source": [
    "print(mae(xgbtr, ytr))\n",
    "print(mae(xgbte, yte))"
   ]
  },
  {
   "cell_type": "code",
   "execution_count": null,
   "id": "d82db056-93a7-4391-891a-d5a5e41008b6",
   "metadata": {},
   "outputs": [],
   "source": [
    "print(mae(mlptr, ytr))\n",
    "print(mae(mlpte, yte))"
   ]
  },
  {
   "cell_type": "code",
   "execution_count": null,
   "id": "f6900d24-16b1-455a-928f-2df10557f96f",
   "metadata": {},
   "outputs": [],
   "source": [
    "submis = pd.read_csv(\"sample_submission.csv\")"
   ]
  },
  {
   "cell_type": "code",
   "execution_count": null,
   "id": "d261e2ee-6055-447e-9b50-50931c76d9d2",
   "metadata": {},
   "outputs": [],
   "source": [
    "xgbpred = xgbr.predict(test)\n",
    "\n",
    "rfrpred = rfr.predict(test)"
   ]
  },
  {
   "cell_type": "code",
   "execution_count": null,
   "id": "29a8f689-fb71-4c9c-84e9-cbea45caf8a6",
   "metadata": {},
   "outputs": [],
   "source": [
    "def submission(pred, submis):\n",
    "    pred = pd.DataFrame(pred)\n",
    "    result = pd.concat([submis, pred], axis=1)\n",
    "    result.drop(columns = '풍속 (m/s)', inplace=True)\n",
    "    result = result.set_index('ID')\n",
    "    result.columns = ['풍속 (m/s)']\n",
    "    \n",
    "    return result"
   ]
  },
  {
   "cell_type": "code",
   "execution_count": null,
   "id": "f9384fe9-475b-472d-a191-80a47174e1ff",
   "metadata": {},
   "outputs": [],
   "source": [
    "rfr0729 = submission(rfrpred, submis)\n",
    "rfr0729.to_csv(\"rfr0729.csv\")"
   ]
  },
  {
   "cell_type": "code",
   "execution_count": null,
   "id": "8ed1644b-b96e-4d8f-b6e9-758936557dbe",
   "metadata": {},
   "outputs": [],
   "source": [
    "xgb07291= submission(xgbpred, submis)\n",
    "xgb07291.to_csv(\"xgb07291.csv\")"
   ]
  }
 ],
 "metadata": {
  "kernelspec": {
   "display_name": "Python 3 (ipykernel)",
   "language": "python",
   "name": "python3"
  },
  "language_info": {
   "codemirror_mode": {
    "name": "ipython",
    "version": 3
   },
   "file_extension": ".py",
   "mimetype": "text/x-python",
   "name": "python",
   "nbconvert_exporter": "python",
   "pygments_lexer": "ipython3",
   "version": "3.9.7"
  }
 },
 "nbformat": 4,
 "nbformat_minor": 5
}
