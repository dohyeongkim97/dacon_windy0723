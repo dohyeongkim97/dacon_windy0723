{
 "cells": [
  {
   "cell_type": "code",
   "execution_count": null,
   "id": "2192311c-f2cb-4ba8-99aa-8a84b97646d6",
   "metadata": {},
   "outputs": [],
   "source": [
    "import pandas as pd\n",
    "import numpy as np\n",
    "import matplotlib.pyplot as plt\n",
    "import matplotlib as mpl\n",
    "import seaborn as sns\n",
    "\n",
    "import torch\n",
    "import torch.nn as nn\n",
    "import torch.optim as optim\n",
    "from torch.utils.data import Dataset, DataLoader\n",
    "import torch.nn.functional as F\n",
    "\n",
    "from sklearn.model_selection import train_test_split\n",
    "import random\n",
    "import os\n",
    "\n",
    "from sklearn.preprocessing import StandardScaler\n",
    "from sklearn.preprocessing import RobustScaler\n",
    "from sklearn.preprocessing import OneHotEncoder\n",
    "from sklearn.preprocessing import MinMaxScaler\n",
    "from sklearn.metrics import mean_absolute_error\n",
    "\n",
    "from statsmodels.stats.outliers_influence import variance_inflation_factor\n"
   ]
  },
  {
   "cell_type": "code",
   "execution_count": null,
   "id": "55fed901-2fd9-4c02-bb48-556931f80fb0",
   "metadata": {},
   "outputs": [],
   "source": [
    "mpl.rc('font', family='Malgun Gothic')"
   ]
  },
  {
   "cell_type": "code",
   "execution_count": null,
   "id": "08ec469a-9ff8-4911-ba54-eff355685607",
   "metadata": {},
   "outputs": [],
   "source": [
    "df = pd.read_csv(\"train.csv\")\n",
    "test = pd.read_csv(\"test_.csv\")"
   ]
  },
  {
   "cell_type": "code",
   "execution_count": null,
   "id": "59e1c03f-ccb2-4ea8-b331-aa41f995bfe5",
   "metadata": {},
   "outputs": [],
   "source": [
    "def seed_everything(seed):\n",
    "    random.seed(seed)\n",
    "    os.environ['PYTHONHASHSEED'] = str(seed)\n",
    "    np.random.seed(seed)\n",
    "    torch.manual_seed(seed)\n",
    "    torch.cuda.manual_seed(seed)\n",
    "    torch.backends.cudnn.deterministic=True\n",
    "    torch.backends.cudnn.benchmark = True"
   ]
  },
  {
   "cell_type": "code",
   "execution_count": null,
   "id": "dad8a8c9-7657-42df-bc09-1d4b17e238ec",
   "metadata": {},
   "outputs": [],
   "source": [
    "seed_everything(0)\n",
    "device = torch.device('cuda' if torch.cuda.is_available() else 'cpu')"
   ]
  },
  {
   "cell_type": "code",
   "execution_count": null,
   "id": "0efa4ea7-f938-495f-88eb-0b532661fed3",
   "metadata": {},
   "outputs": [],
   "source": [
    "class Custom_Dataset(Dataset):\n",
    "    def __init__(self, Dataset, trainset=True):\n",
    "        self.Dataset = Dataset\n",
    "        self.trainset = trainset\n",
    "\n",
    "        if trainset:\n",
    "            self.target = pd.DataFrame(Dataset[Dataset.columns[-1]].values)\n",
    "            self.data = pd.DataFrame(Dataset[Dataset.columns[:-1]].values)\n",
    "        else:\n",
    "            self.target = None\n",
    "            self.data = pd.DataFrame(Dataset)\n",
    "\n",
    "    def __len__(self):\n",
    "        return len(self.data)\n",
    "        \n",
    "\n",
    "    def __getitem__(self, idx):\n",
    "        data = torch.FloatTensor(self.data.iloc[idx].values)\n",
    "\n",
    "        if self.target is not None:\n",
    "            target = torch.FloatTensor(self.target.iloc[idx].values)\n",
    "            return data, target\n",
    "        else:\n",
    "            return data"
   ]
  },
  {
   "cell_type": "code",
   "execution_count": null,
   "id": "2892af90-880f-4570-94fc-d8505b5f12d9",
   "metadata": {},
   "outputs": [],
   "source": [
    "train_dataset = Custom_Dataset(df)\n",
    "test_dataset = Custom_Dataset(test, trainset=False)\n",
    "num_features_train = len(train_dataset[0][0])\n",
    "model = nn.Linear(in_features= num_features_train, out_features= 1).to(device)\n",
    "optimizer = torch.optim.SGD(model.parameters(), lr=0.0015)\n",
    "dataloader = DataLoader(train_dataset, batch_size=2)\n",
    "criterion = nn.MSELoss()"
   ]
  },
  {
   "cell_type": "code",
   "execution_count": null,
   "id": "eead70a9-c6b3-4433-8eef-f1a3422b0f46",
   "metadata": {},
   "outputs": [],
   "source": [
    "class Regressor(nn.Module):\n",
    "    def __init__(self):\n",
    "        super().__init__()\n",
    "        self.flatten = nn.Flatten()\n",
    "        self.fc1 = nn.Linear(num_features_train, 50)\n",
    "        self.fc2 = nn.Linear(50, 30)\n",
    "        self.fc3 = nn.Linear(30, 15)\n",
    "        self.fc4 = nn.Linear(15, 1)\n",
    "        self.dropout = nn.Dropout(0.5)\n",
    "            \n",
    "    def forward(self, x):\n",
    "        x = F.sigmoid(self.fc1(x))\n",
    "        x = self.dropout(F.sigmoid(self.fc2(x)))\n",
    "        x = F.sigmoid(self.fc3(x))\n",
    "        x = F.sigmoid(self.fc4(x))\n",
    "        return x"
   ]
  },
  {
   "cell_type": "code",
   "execution_count": null,
   "id": "afa6fb82-4aae-4b63-b579-0e2891a0b431",
   "metadata": {},
   "outputs": [],
   "source": [
    "model = Regressor().to(device)\n",
    "\n",
    "criterion = nn.MSELoss()\n",
    "optimizer = optim.SGD(model.parameters(), lr=0.00015)\n",
    "torch.optim.lr_scheduler.ReduceLROnPlateau(optimizer, mode='min', factor=0.1, patience=10, threshold=0.0001)\n",
    "\n",
    "train_dataloader = DataLoader(train_dataset2, batch_size=2)"
   ]
  },
  {
   "cell_type": "code",
   "execution_count": null,
   "id": "f7e12a6c-119e-4f39-8151-a8e3da66b450",
   "metadata": {},
   "outputs": [],
   "source": [
    "loss_ = []\n",
    "n = len(train_dataloader)    # 파일 사이즈가 너무 커서 dataloader에서 train_dataloader로 변경\n",
    "for epoch in range(25):\n",
    "    running_loss = 0.0\n",
    "    for data in dataloader:\n",
    "        inputs, values = data\n",
    "        inputs = inputs.to(device)\n",
    "        values = values.to(device)\n",
    "        optimizer.zero_grad()\n",
    "        outputs = model(inputs)\n",
    "        \n",
    "        loss = criterion(outputs, values)\n",
    "        loss.backward()\n",
    "        optimizer.step()\n",
    "        \n",
    "        running_loss += loss.item()\n",
    "    loss_.append(running_loss/n)\n",
    "    \n",
    "    print(loss_[epoch])\n",
    "    \n",
    "    if epoch % 5 == 0:\n",
    "        print(epoch)"
   ]
  },
  {
   "cell_type": "code",
   "execution_count": null,
   "id": "67069011-69a9-47d9-af7f-4fc473683024",
   "metadata": {},
   "outputs": [],
   "source": [
    "sns.lineplot(loss_)"
   ]
  },
  {
   "cell_type": "code",
   "execution_count": null,
   "id": "9e651ed2-d833-4632-a7a4-004c76c8376c",
   "metadata": {},
   "outputs": [],
   "source": [
    "\n",
    "def evaluation(dataloader):\n",
    "    \n",
    "    predicts = torch.tensor([], dtype=torch.float).to(device)\n",
    "    actual = torch.tensor([], dtype=torch.float).to(device)\n",
    "    \n",
    "    with torch.no_grad():\n",
    "        model.eval()\n",
    "        \n",
    "        for data in dataloader2:\n",
    "            if len(data) == 2:\n",
    "                inps, vals = data\n",
    "                vals = vals.to(device)          \n",
    "                actual = torch.cat((actual, vals), 0)\n",
    "            else:\n",
    "                inps = data\n",
    "                \n",
    "            inps = inps.to(device)                      \n",
    "            outputs = model(inps)\n",
    "            predicts = torch.cat((predicts, outputs), 0)\n",
    "  \n",
    "            \n",
    "            \n",
    "    predicts = predicts.to('cpu')\n",
    "    predicts = predicts.numpy()\n",
    "    actual = actual.to('cpu')\n",
    "    actual = actual.numpy()\n",
    "    mse = np.sqrt(mean_squared_error(predicts, actual))\n",
    "    \n",
    "    return mse\n",
    "\n",
    "train_mse = evaluation(dataloader)\n",
    "test_mse = evaluation(test_dataloader)\n",
    "    \n",
    "    \n",
    "print('train:', train_mse)\n",
    "print('test:', test_mse)"
   ]
  },
  {
   "cell_type": "code",
   "execution_count": null,
   "id": "e9658a16-9faa-4c5f-8775-a21fc8ed09f6",
   "metadata": {},
   "outputs": [],
   "source": []
  },
  {
   "cell_type": "code",
   "execution_count": null,
   "id": "9595dc21-ec6e-4704-9c19-fd0233cbf42b",
   "metadata": {},
   "outputs": [],
   "source": []
  }
 ],
 "metadata": {
  "kernelspec": {
   "display_name": "Python 3 (ipykernel)",
   "language": "python",
   "name": "python3"
  },
  "language_info": {
   "codemirror_mode": {
    "name": "ipython",
    "version": 3
   },
   "file_extension": ".py",
   "mimetype": "text/x-python",
   "name": "python",
   "nbconvert_exporter": "python",
   "pygments_lexer": "ipython3",
   "version": "3.9.7"
  }
 },
 "nbformat": 4,
 "nbformat_minor": 5
}
