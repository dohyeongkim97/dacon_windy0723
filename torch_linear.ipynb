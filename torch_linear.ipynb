{
 "cells": [
  {
   "cell_type": "code",
   "execution_count": null,
   "id": "011d6b16-ff51-4f2e-a152-b930889f8217",
   "metadata": {},
   "outputs": [],
   "source": [
    "import pandas as pd\n",
    "import numpy as np\n",
    "import matplotlib.pyplot as plt\n",
    "import matplotlib as mpl\n",
    "import seaborn as sns\n",
    "\n",
    "import torch\n",
    "import torch.nn as nn\n",
    "import torch.optim as optim\n",
    "from torch.utils.data import Dataset, DataLoader\n",
    "import torch.nn.functional as F\n",
    "\n",
    "from sklearn.model_selection import train_test_split\n",
    "import random\n",
    "import os\n",
    "\n",
    "from sklearn.preprocessing import StandardScaler\n",
    "from sklearn.preprocessing import RobustScaler\n",
    "from sklearn.preprocessing import OneHotEncoder\n",
    "from sklearn.preprocessing import MinMaxScaler\n",
    "\n",
    "from statsmodels.stats.outliers_influence import variance_inflation_factor\n"
   ]
  },
  {
   "cell_type": "code",
   "execution_count": null,
   "id": "c70bc4d7-e532-47a6-a562-223ca9c6fedf",
   "metadata": {},
   "outputs": [],
   "source": [
    "mpl.rc('font', family='Malgun Gothic')"
   ]
  },
  {
   "cell_type": "code",
   "execution_count": null,
   "id": "7c8bb9ef-af67-4ffa-bede-0828c7eac3ec",
   "metadata": {},
   "outputs": [],
   "source": [
    "df = pd.read_csv(\"train.csv\")\n",
    "test = pd.read_csv(\"test_.csv\")"
   ]
  },
  {
   "cell_type": "code",
   "execution_count": null,
   "id": "cac61be0-3b85-4eca-97f7-009e494bbaf0",
   "metadata": {},
   "outputs": [],
   "source": [
    "def seed_everything(seed):\n",
    "    random.seed(seed)\n",
    "    os.environ['PYTHONHASHSEED'] = str(seed)\n",
    "    np.random.seed(seed)\n",
    "    torch.manual_seed(seed)\n",
    "    torch.cuda.manual_seed(seed)\n",
    "    torch.backends.cudnn.deterministic=True\n",
    "    torch.backends.cudnn.benchmark = True"
   ]
  },
  {
   "cell_type": "code",
   "execution_count": null,
   "id": "da8480fe-2fff-4a99-80ea-76b8091bc23c",
   "metadata": {},
   "outputs": [],
   "source": [
    "seed_everything(0)\n",
    "device = torch.device('cuda' if torch.cuda.is_available() else 'cpu')"
   ]
  },
  {
   "cell_type": "code",
   "execution_count": null,
   "id": "21a7bd6e-24ee-46aa-9fdd-66784630038b",
   "metadata": {},
   "outputs": [],
   "source": [
    "class Custom_Dataset(Dataset):\n",
    "    def __init__(self, Dataset, trainset=True):\n",
    "        self.Dataset = Dataset\n",
    "        self.trainset = trainset\n",
    "\n",
    "        if trainset:\n",
    "            self.target = pd.DataFrame(Dataset[Dataset.columns[-1]].values)\n",
    "            self.data = pd.DataFrame(Dataset[Dataset.columns[:-1]].values)\n",
    "        else:\n",
    "            self.target = None\n",
    "            self.data = pd.DataFrame(Dataset)\n",
    "\n",
    "    def __len__(self):\n",
    "        return len(self.data)\n",
    "        \n",
    "\n",
    "    def __getitem__(self, idx):\n",
    "        data = torch.FloatTensor(self.data.iloc[idx].values)\n",
    "\n",
    "        if self.target is not None:\n",
    "            target = torch.FloatTensor(self.target.iloc[idx].values)\n",
    "            return data, target\n",
    "        else:\n",
    "            return data"
   ]
  },
  {
   "cell_type": "code",
   "execution_count": null,
   "id": "43425e32-b592-4994-83d3-fd3c9d467de9",
   "metadata": {},
   "outputs": [],
   "source": [
    "train_dataset = Custom_Dataset(df)\n",
    "test_dataset = Custom_Dataset(test, trainset=False)\n",
    "num_features_train = len(train_dataset[0][0])\n",
    "model = nn.Linear(in_features= num_features_train, out_features= 1).to(device)\n",
    "dataloader = DataLoader(train_dataset, batch_size=2)\n",
    "criterion = nn.MSELoss()"
   ]
  },
  {
   "cell_type": "code",
   "execution_count": null,
   "id": "0079ed17-0c5b-4cf6-8500-639da8fa1292",
   "metadata": {},
   "outputs": [],
   "source": [
    "nb_epochs = 25\n",
    "for epoch in range(nb_epochs + 1):\n",
    "    for batch_idx, samples in enumerate(dataloader):\n",
    "        x_train, y_train = samples\n",
    "        x_train, y_train = x_train.to(device), y_train.to(device)  # Move to the same device as the model\n",
    "        \n",
    "        prediction = model(x_train)\n",
    "        cost = F.mse_loss(prediction, y_train)\n",
    "        \n",
    "        optimizer.zero_grad()\n",
    "        cost.backward()\n",
    "        optimizer.step()\n",
    "        \n",
    "        # print('Epoch {:4d}/{} Batch {}/{} Cost: {:.6f}'.format(\n",
    "        # epoch, nb_epochs, batch_idx+1, len(dataloader), cost.item()\n",
    "        # ))"
   ]
  },
  {
   "cell_type": "code",
   "execution_count": null,
   "id": "e035ca21-2358-4ab5-b518-f7a7dd674d89",
   "metadata": {},
   "outputs": [],
   "source": [
    "\n",
    "model.eval()\n",
    "\n",
    "test_dataloader = DataLoader(test_dataset, batch_size=1)\n",
    "predictions = []\n",
    "\n",
    "with torch.no_grad():\n",
    "    for samples in test_dataloader:\n",
    "        x_test = samples[0].to(device)\n",
    "        prediction = model(x_test)\n",
    "        predictions.append(prediction.item())\n",
    "        \n",
    "pred_df = pd.DataFrame(predictions, columns=['Predicted_Target'])\n",
    "\n",
    "result_df = pd.concat([teid, pred_df], axis=1)"
   ]
  },
  {
   "cell_type": "code",
   "execution_count": 1,
   "id": "56d19a83-53da-4b2e-b21b-63a1c61e0cb3",
   "metadata": {
    "tags": []
   },
   "outputs": [
    {
     "ename": "NameError",
     "evalue": "name 'result_df' is not defined",
     "output_type": "error",
     "traceback": [
      "\u001b[1;31m---------------------------------------------------------------------------\u001b[0m",
      "\u001b[1;31mNameError\u001b[0m                                 Traceback (most recent call last)",
      "Cell \u001b[1;32mIn[1], line 1\u001b[0m\n\u001b[1;32m----> 1\u001b[0m \u001b[43mresult_df\u001b[49m\u001b[38;5;241m.\u001b[39mto_csv(\u001b[38;5;124m'\u001b[39m\u001b[38;5;124msubmission_linear.csv\u001b[39m\u001b[38;5;124m'\u001b[39m)\n",
      "\u001b[1;31mNameError\u001b[0m: name 'result_df' is not defined"
     ]
    }
   ],
   "source": [
    "result_df.to_csv('submission_linear.csv')"
   ]
  },
  {
   "cell_type": "code",
   "execution_count": null,
   "id": "8c717d82-ddbc-4f86-9b20-98d02481c6a0",
   "metadata": {},
   "outputs": [],
   "source": []
  }
 ],
 "metadata": {
  "kernelspec": {
   "display_name": "Python 3 (ipykernel)",
   "language": "python",
   "name": "python3"
  },
  "language_info": {
   "codemirror_mode": {
    "name": "ipython",
    "version": 3
   },
   "file_extension": ".py",
   "mimetype": "text/x-python",
   "name": "python",
   "nbconvert_exporter": "python",
   "pygments_lexer": "ipython3",
   "version": "3.9.7"
  }
 },
 "nbformat": 4,
 "nbformat_minor": 5
}
